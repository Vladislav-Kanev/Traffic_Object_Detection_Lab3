{
 "cells": [
  {
   "cell_type": "code",
   "execution_count": 1,
   "metadata": {},
   "outputs": [],
   "source": [
    "import torch\n",
    "\n",
    "from src.model import get_model\n",
    "from src.dataset import FrameDataset, split_dataset, get_pandas_dataset\n",
    "from src.trainer import Trainer"
   ]
  },
  {
   "cell_type": "code",
   "execution_count": 2,
   "metadata": {},
   "outputs": [],
   "source": [
    "baseTrainPath = 'data/train_images/train_images/'\n",
    "dataset_path = 'data/usdc_train.json'"
   ]
  },
  {
   "cell_type": "code",
   "execution_count": 3,
   "metadata": {},
   "outputs": [],
   "source": [
    "pandas_dataset, classes = get_pandas_dataset(dataset_path)\n",
    "\n",
    "frame_dataset = FrameDataset(pandas_dataset, baseTrainPath)\n",
    "train_dataset, test_dataset = split_dataset(frame_dataset)\n",
    "\n",
    "pin_memory = torch.cuda.is_available()\n",
    "\n",
    "train_dataloader = torch.utils.data.DataLoader(\n",
    "    train_dataset,\n",
    "    batch_size=16,\n",
    "    shuffle=True,\n",
    "    collate_fn=lambda x: x,\n",
    "    pin_memory=pin_memory)\n",
    "\n",
    "test_dataloader = torch.utils.data.DataLoader(\n",
    "    test_dataset,\n",
    "    batch_size=16,\n",
    "    collate_fn=lambda x: x,\n",
    "    pin_memory=pin_memory)"
   ]
  },
  {
   "cell_type": "code",
   "execution_count": 4,
   "metadata": {},
   "outputs": [
    {
     "ename": "ValueError",
     "evalue": "optimizer must support momentum with `cycle_momentum` option enabled",
     "output_type": "error",
     "traceback": [
      "\u001b[0;31m---------------------------------------------------------------------------\u001b[0m",
      "\u001b[0;31mValueError\u001b[0m                                Traceback (most recent call last)",
      "\u001b[1;32m/home/habkaffee/programming/machine_learning/Traffic_Object_Detection_Lab3/test.ipynb Cell 4\u001b[0m line \u001b[0;36m6\n\u001b[1;32m      <a href='vscode-notebook-cell://wsl%2Bubuntu/home/habkaffee/programming/machine_learning/Traffic_Object_Detection_Lab3/test.ipynb#Y146sdnNjb2RlLXJlbW90ZQ%3D%3D?line=3'>4</a>\u001b[0m model \u001b[39m=\u001b[39m get_model(\u001b[39mlen\u001b[39m(classes))\u001b[39m.\u001b[39mto(device)\n\u001b[1;32m      <a href='vscode-notebook-cell://wsl%2Bubuntu/home/habkaffee/programming/machine_learning/Traffic_Object_Detection_Lab3/test.ipynb#Y146sdnNjb2RlLXJlbW90ZQ%3D%3D?line=4'>5</a>\u001b[0m optimizer \u001b[39m=\u001b[39m torch\u001b[39m.\u001b[39moptim\u001b[39m.\u001b[39mAdam(\u001b[39mfilter\u001b[39m(\u001b[39mlambda\u001b[39;00m param: param\u001b[39m.\u001b[39mrequires_grad, model\u001b[39m.\u001b[39mparameters()), lr\u001b[39m=\u001b[39m\u001b[39m0.001\u001b[39m, weight_decay\u001b[39m=\u001b[39m\u001b[39m0.0005\u001b[39m)\n\u001b[0;32m----> <a href='vscode-notebook-cell://wsl%2Bubuntu/home/habkaffee/programming/machine_learning/Traffic_Object_Detection_Lab3/test.ipynb#Y146sdnNjb2RlLXJlbW90ZQ%3D%3D?line=5'>6</a>\u001b[0m scheduler \u001b[39m=\u001b[39m torch\u001b[39m.\u001b[39;49moptim\u001b[39m.\u001b[39;49mlr_scheduler\u001b[39m.\u001b[39;49mCyclicLR(optimizer, base_lr\u001b[39m=\u001b[39;49m\u001b[39m0.001\u001b[39;49m, max_lr\u001b[39m=\u001b[39;49m\u001b[39m0.1\u001b[39;49m,step_size_up\u001b[39m=\u001b[39;49m\u001b[39m5\u001b[39;49m,mode\u001b[39m=\u001b[39;49m\u001b[39m\"\u001b[39;49m\u001b[39mexp_range\u001b[39;49m\u001b[39m\"\u001b[39;49m,gamma\u001b[39m=\u001b[39;49m\u001b[39m0.85\u001b[39;49m)\n\u001b[1;32m      <a href='vscode-notebook-cell://wsl%2Bubuntu/home/habkaffee/programming/machine_learning/Traffic_Object_Detection_Lab3/test.ipynb#Y146sdnNjb2RlLXJlbW90ZQ%3D%3D?line=6'>7</a>\u001b[0m num_epochs \u001b[39m=\u001b[39m \u001b[39m1\u001b[39m\n\u001b[1;32m      <a href='vscode-notebook-cell://wsl%2Bubuntu/home/habkaffee/programming/machine_learning/Traffic_Object_Detection_Lab3/test.ipynb#Y146sdnNjb2RlLXJlbW90ZQ%3D%3D?line=8'>9</a>\u001b[0m trainer \u001b[39m=\u001b[39m Trainer(\n\u001b[1;32m     <a href='vscode-notebook-cell://wsl%2Bubuntu/home/habkaffee/programming/machine_learning/Traffic_Object_Detection_Lab3/test.ipynb#Y146sdnNjb2RlLXJlbW90ZQ%3D%3D?line=9'>10</a>\u001b[0m     model\u001b[39m=\u001b[39mmodel,\n\u001b[1;32m     <a href='vscode-notebook-cell://wsl%2Bubuntu/home/habkaffee/programming/machine_learning/Traffic_Object_Detection_Lab3/test.ipynb#Y146sdnNjb2RlLXJlbW90ZQ%3D%3D?line=10'>11</a>\u001b[0m     train_dataloader\u001b[39m=\u001b[39mtrain_dataloader,\n\u001b[0;32m   (...)\u001b[0m\n\u001b[1;32m     <a href='vscode-notebook-cell://wsl%2Bubuntu/home/habkaffee/programming/machine_learning/Traffic_Object_Detection_Lab3/test.ipynb#Y146sdnNjb2RlLXJlbW90ZQ%3D%3D?line=16'>17</a>\u001b[0m     autocast\u001b[39m=\u001b[39mautocast\n\u001b[1;32m     <a href='vscode-notebook-cell://wsl%2Bubuntu/home/habkaffee/programming/machine_learning/Traffic_Object_Detection_Lab3/test.ipynb#Y146sdnNjb2RlLXJlbW90ZQ%3D%3D?line=17'>18</a>\u001b[0m )\n",
      "File \u001b[0;32m~/programming/machine_learning/Traffic_Object_Detection_Lab3/venv/lib/python3.10/site-packages/torch/optim/lr_scheduler.py:1222\u001b[0m, in \u001b[0;36mCyclicLR.__init__\u001b[0;34m(self, optimizer, base_lr, max_lr, step_size_up, step_size_down, mode, gamma, scale_fn, scale_mode, cycle_momentum, base_momentum, max_momentum, last_epoch, verbose)\u001b[0m\n\u001b[1;32m   1220\u001b[0m \u001b[39mif\u001b[39;00m cycle_momentum:\n\u001b[1;32m   1221\u001b[0m     \u001b[39mif\u001b[39;00m \u001b[39m'\u001b[39m\u001b[39mmomentum\u001b[39m\u001b[39m'\u001b[39m \u001b[39mnot\u001b[39;00m \u001b[39min\u001b[39;00m optimizer\u001b[39m.\u001b[39mdefaults:\n\u001b[0;32m-> 1222\u001b[0m         \u001b[39mraise\u001b[39;00m \u001b[39mValueError\u001b[39;00m(\u001b[39m'\u001b[39m\u001b[39moptimizer must support momentum with `cycle_momentum` option enabled\u001b[39m\u001b[39m'\u001b[39m)\n\u001b[1;32m   1224\u001b[0m     base_momentums \u001b[39m=\u001b[39m \u001b[39mself\u001b[39m\u001b[39m.\u001b[39m_format_param(\u001b[39m'\u001b[39m\u001b[39mbase_momentum\u001b[39m\u001b[39m'\u001b[39m, optimizer, base_momentum)\n\u001b[1;32m   1225\u001b[0m     \u001b[39mif\u001b[39;00m last_epoch \u001b[39m==\u001b[39m \u001b[39m-\u001b[39m\u001b[39m1\u001b[39m:\n",
      "\u001b[0;31mValueError\u001b[0m: optimizer must support momentum with `cycle_momentum` option enabled"
     ]
    }
   ],
   "source": [
    "device = torch.device('cuda') if torch.cuda.is_available() else torch.device('cpu')\n",
    "autocast = torch.cuda.is_available()\n",
    "\n",
    "model = get_model(len(classes)).to(device)\n",
    "optimizer = torch.optim.SGD(filter(lambda param: param.requires_grad, model.parameters()), lr=0.001, momentum=0.9, weight_decay=0.0005)\n",
    "scheduler = torch.optim.lr_scheduler.CyclicLR(optimizer, base_lr=0.001, max_lr=0.1,step_size_up=5,mode=\"exp_range\",gamma=0.85)\n",
    "num_epochs = 1\n",
    "\n",
    "trainer = Trainer(\n",
    "    model=model,\n",
    "    train_dataloader=train_dataloader,\n",
    "    test_dataloader=test_dataloader,\n",
    "    optimizer=optimizer,\n",
    "    scheduler=scheduler,\n",
    "    num_epochs=num_epochs,\n",
    "    device=device,\n",
    "    autocast=autocast\n",
    ")\n",
    "\n",
    "trainer.train()"
   ]
  }
 ],
 "metadata": {
  "kernelspec": {
   "display_name": "venv",
   "language": "python",
   "name": "python3"
  },
  "language_info": {
   "codemirror_mode": {
    "name": "ipython",
    "version": 3
   },
   "file_extension": ".py",
   "mimetype": "text/x-python",
   "name": "python",
   "nbconvert_exporter": "python",
   "pygments_lexer": "ipython3",
   "version": "3.9.6"
  }
 },
 "nbformat": 4,
 "nbformat_minor": 2
}
