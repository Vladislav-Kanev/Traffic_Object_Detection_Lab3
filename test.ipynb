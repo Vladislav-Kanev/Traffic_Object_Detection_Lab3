{
   "cells": [
      {
         "cell_type": "code",
         "execution_count": null,
         "metadata": {},
         "outputs": [],
         "source": [
            "# from src.dataset import FrameDataset, split_dataset, get_pandas_dataset\n",
            "# from src.yolo_helper import yolo_preprocessing\n",
            "\n",
            "# labelsPath = 'data/train_images/labels/'\n",
            "\n",
            "# train_dataset_path = 'data/usdc_train.json'\n",
            "# train_pandas_dataset, classes = get_pandas_dataset(train_dataset_path)\n",
            "\n",
            "# yolo_preprocessing(train_pandas_dataset, labelsPath)\n",
            "\"path/images/train\"\n",
            "\"path/images/val\"\n",
            "\"path/images/test\"\n",
            "\"path/labels/train\"\n",
            "\"path/labels/val\"\n",
            "\"path/labels/test\""
         ]
      },
      {
         "cell_type": "code",
         "execution_count": null,
         "metadata": {},
         "outputs": [],
         "source": [
            "import torch\n",
            "\n",
            "from src.model import get_model\n",
            "from src.dataset import FrameDataset, split_dataset, get_pandas_dataset\n",
            "from src.trainer import Trainer\n",
            "from src.results import prepare_result\n",
            "\n",
            "from src.dataset import FrameDataset, split_dataset, get_pandas_dataset\n",
            "from src.yolo_helper import yolo_preprocessing"
         ]
      },
      {
         "cell_type": "code",
         "execution_count": null,
         "metadata": {},
         "outputs": [],
         "source": [
            "baseTrainPath = 'data/train_images/images/'\n",
            "train_dataset_path = 'data/usdc_train.json'\n",
            "\n",
            "baseValPath = 'data/test_images/test_images/'\n",
            "val_dataset_path = 'data/test_file_names.json'\n",
            "\n",
            "labelsPath = 'data/labels/'\n",
            "train_dataset_path = 'data/usdc_train.json'"
         ]
      },
      {
         "cell_type": "code",
         "execution_count": null,
         "metadata": {},
         "outputs": [],
         "source": [
            "train_pandas_dataset, classes = get_pandas_dataset(train_dataset_path)\n",
            "\n",
            "# yolo_preprocessing(train_pandas_dataset, labelsPath)"
         ]
      },
      {
         "cell_type": "code",
         "execution_count": null,
         "metadata": {},
         "outputs": [],
         "source": [
            "# train_pandas_dataset, classes = get_pandas_dataset(train_dataset_path)\n",
            "\n",
            "# frame_dataset = FrameDataset(train_pandas_dataset, baseTrainPath)\n",
            "# train_dataset, test_dataset = split_dataset(frame_dataset)\n",
            "\n",
            "# pin_memory = torch.cuda.is_available()\n",
            "\n",
            "# train_dataloader = torch.utils.data.DataLoader(\n",
            "#     train_dataset,\n",
            "#     batch_size=16,\n",
            "#     shuffle=True,\n",
            "#     collate_fn=lambda x: x,\n",
            "#     pin_memory=pin_memory)\n",
            "\n",
            "# test_dataloader = torch.utils.data.DataLoader(\n",
            "#     test_dataset,\n",
            "#     batch_size=16,\n",
            "#     collate_fn=lambda x: x,\n",
            "#     pin_memory=pin_memory)\n",
            "\n",
            "# val_pandas_dataset, _ = get_pandas_dataset(val_dataset_path, val=True)\n",
            "# val_frame_dataset = FrameDataset(val_pandas_dataset, baseValPath, val=True)\n",
            "# val_index_map = list(val_pandas_dataset['id'])\n",
            "\n",
            "# val_dataloader = torch.utils.data.DataLoader(\n",
            "#     val_frame_dataset,\n",
            "#     batch_size=16,\n",
            "#     collate_fn=lambda x: x,\n",
            "#     pin_memory=pin_memory)"
         ]
      },
      {
         "cell_type": "code",
         "execution_count": null,
         "metadata": {},
         "outputs": [],
         "source": [
            "# device = torch.device('cuda') if torch.cuda.is_available() else torch.device('cpu')\n",
            "# autocast = torch.cuda.is_available()\n",
            "\n",
            "# model = get_model(len(classes)).to(device)\n",
            "# optimizer = torch.optim.SGD(filter(lambda param: param.requires_grad, model.parameters()), lr=0.001, momentum=0.9, weight_decay=0.0005)\n",
            "# scheduler = torch.optim.lr_scheduler.CyclicLR(optimizer, base_lr=0.001, max_lr=0.1, step_size_up=5, mode=\"exp_range\", gamma=0.85)\n",
            "# num_epochs = 30\n",
            "\n",
            "# trainer = Trainer(\n",
            "#     model=model,\n",
            "#     train_dataloader=train_dataloader,\n",
            "#     test_dataloader=test_dataloader,\n",
            "#     val_dataloader=val_dataloader,\n",
            "#     optimizer=optimizer,\n",
            "#     scheduler=scheduler,\n",
            "#     num_epochs=num_epochs,\n",
            "#     device=device,\n",
            "#     autocast=autocast\n",
            "# )\n",
            "\n",
            "# trainer.train()\n",
            "\n",
            "# result = trainer.eval()\n",
            "# prepare_result(result, 'result.csv', val_index_map)"
         ]
      },
      {
         "cell_type": "code",
         "execution_count": null,
         "metadata": {},
         "outputs": [],
         "source": [
            "import os\n",
            "os.chdir('models/yolov5/')\n",
            "os.system('python3 train.py --img 640 --batch 32 --epochs 10 --data udacity_self_driving_car_coco.yaml --weights yolov5s.pt ')\n",
            "os.chdir('../../')"
         ]
      },
      {
         "cell_type": "code",
         "execution_count": null,
         "metadata": {},
         "outputs": [],
         "source": [
            "os.chdir('models/yolov5/')\n",
            "os.system('python3 val.py --weights runs/train/exp6/weights/best.pt --data udacity_self_driving_car_coco.yaml --save-json')\n",
            "os.chdir('../../')"
         ]
      },
      {
         "cell_type": "code",
         "execution_count": 81,
         "metadata": {},
         "outputs": [
            {
               "ename": "TypeError",
               "evalue": "unsupported operand type(s) for +: 'range' and 'int'",
               "output_type": "error",
               "traceback": [
                  "\u001b[0;31m---------------------------------------------------------------------------\u001b[0m",
                  "\u001b[0;31mTypeError\u001b[0m                                 Traceback (most recent call last)",
                  "\u001b[1;32m/home/habkaffee/programming/machine_learning/Traffic_Object_Detection_Lab3/test.ipynb Cell 9\u001b[0m line \u001b[0;36m1\n\u001b[1;32m     <a href='vscode-notebook-cell://wsl%2Bubuntu/home/habkaffee/programming/machine_learning/Traffic_Object_Detection_Lab3/test.ipynb#X24sdnNjb2RlLXJlbW90ZQ%3D%3D?line=10'>11</a>\u001b[0m names_to_id \u001b[39m=\u001b[39m \u001b[39mdict\u001b[39m((i[\u001b[39m'\u001b[39m\u001b[39mfile_name\u001b[39m\u001b[39m'\u001b[39m][:\u001b[39m-\u001b[39m\u001b[39m4\u001b[39m], i[\u001b[39m'\u001b[39m\u001b[39mid\u001b[39m\u001b[39m'\u001b[39m]) \u001b[39mfor\u001b[39;00m i \u001b[39min\u001b[39;00m data_json[\u001b[39m'\u001b[39m\u001b[39mimages\u001b[39m\u001b[39m'\u001b[39m])\n\u001b[1;32m     <a href='vscode-notebook-cell://wsl%2Bubuntu/home/habkaffee/programming/machine_learning/Traffic_Object_Detection_Lab3/test.ipynb#X24sdnNjb2RlLXJlbW90ZQ%3D%3D?line=12'>13</a>\u001b[0m res_json[\u001b[39m'\u001b[39m\u001b[39mimage_id\u001b[39m\u001b[39m'\u001b[39m] \u001b[39m=\u001b[39m [names_to_id[i] \u001b[39mfor\u001b[39;00m i \u001b[39min\u001b[39;00m res_json[\u001b[39m'\u001b[39m\u001b[39mimage_id\u001b[39m\u001b[39m'\u001b[39m]]\n\u001b[0;32m---> <a href='vscode-notebook-cell://wsl%2Bubuntu/home/habkaffee/programming/machine_learning/Traffic_Object_Detection_Lab3/test.ipynb#X24sdnNjb2RlLXJlbW90ZQ%3D%3D?line=13'>14</a>\u001b[0m res_json\u001b[39m.\u001b[39minsert(loc\u001b[39m=\u001b[39m\u001b[39m0\u001b[39m, column\u001b[39m=\u001b[39m\u001b[39m'\u001b[39m\u001b[39mID\u001b[39m\u001b[39m'\u001b[39m, value\u001b[39m=\u001b[39m[i \u001b[39mfor\u001b[39;00m i \u001b[39min\u001b[39;00m \u001b[39mrange\u001b[39;49m(\u001b[39m1\u001b[39;49m, \u001b[39mlen\u001b[39;49m(res_json))\u001b[39m+\u001b[39;49m\u001b[39m1\u001b[39;49m])\n\u001b[1;32m     <a href='vscode-notebook-cell://wsl%2Bubuntu/home/habkaffee/programming/machine_learning/Traffic_Object_Detection_Lab3/test.ipynb#X24sdnNjb2RlLXJlbW90ZQ%3D%3D?line=14'>15</a>\u001b[0m res_json\n\u001b[1;32m     <a href='vscode-notebook-cell://wsl%2Bubuntu/home/habkaffee/programming/machine_learning/Traffic_Object_Detection_Lab3/test.ipynb#X24sdnNjb2RlLXJlbW90ZQ%3D%3D?line=15'>16</a>\u001b[0m \u001b[39m# lookup = dict(zip(names_to_id['file_name'], names_to_id['id']))\u001b[39;00m\n\u001b[1;32m     <a href='vscode-notebook-cell://wsl%2Bubuntu/home/habkaffee/programming/machine_learning/Traffic_Object_Detection_Lab3/test.ipynb#X24sdnNjb2RlLXJlbW90ZQ%3D%3D?line=16'>17</a>\u001b[0m \u001b[39m# res_json['image_id'] = []\u001b[39;00m\n",
                  "\u001b[0;31mTypeError\u001b[0m: unsupported operand type(s) for +: 'range' and 'int'"
               ]
            }
         ],
         "source": [
            "import pandas as pd\n",
            "import json\n",
            "from src.dataset import get_pandas_dataset\n",
            "\n",
            "IMAGE_HEIGHT = 512\n",
            "IMAGE_WIDTH = 512\n",
            "\n",
            "res_json = pd.read_json('models/yolov5/runs/val/exp22/best_predictions.json')\n",
            "\n",
            "data_json = json.load(open('data/test_file_names.json'))\n",
            "names_to_id = dict((i['file_name'][:-4], i['id']) for i in data_json['images'])\n",
            "\n",
            "res_json['image_id'] = [names_to_id[i] for i in res_json['image_id']]\n",
            "res_json.insert(loc=0, column='ID', value=[i for i in range(1, len(res_json)+1)])\n",
            "res_json\n",
            "# lookup = dict(zip(names_to_id['file_name'], names_to_id['id']))\n",
            "# res_json['image_id'] = []\n",
            "res_json.to_csv('yolo_results.csv', encoding='utf-8', index=False)\n",
            "\n"
         ]
      },
      {
         "cell_type": "code",
         "execution_count": null,
         "metadata": {},
         "outputs": [],
         "source": []
      }
   ],
   "metadata": {
      "kernelspec": {
         "display_name": "venv",
         "language": "python",
         "name": "python3"
      },
      "language_info": {
         "codemirror_mode": {
            "name": "ipython",
            "version": 3
         },
         "file_extension": ".py",
         "mimetype": "text/x-python",
         "name": "python",
         "nbconvert_exporter": "python",
         "pygments_lexer": "ipython3",
         "version": "3.10.12"
      }
   },
   "nbformat": 4,
   "nbformat_minor": 2
}
