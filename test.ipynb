{
   "cells": [
      {
         "cell_type": "code",
         "execution_count": 1,
         "metadata": {},
         "outputs": [],
         "source": [
            "import torch\n",
            "\n",
            "from src.model import get_model\n",
            "from src.dataset import FrameDataset, split_dataset, get_pandas_dataset\n",
            "from src.trainer import Trainer\n",
            "from src.results import prepare_result\n",
            "from src.transforms import get_transform\n",
            "from src.normalization import get_local_contrast_normalization"
         ]
      },
      {
         "cell_type": "code",
         "execution_count": 2,
         "metadata": {},
         "outputs": [],
         "source": [
            "baseTrainPath = 'data/train_images/train_images/'\n",
            "train_dataset_path = 'data/usdc_train.json'\n",
            "\n",
            "baseValPath = 'data/test_images/test_images/'\n",
            "val_dataset_path = 'data/test_file_names.json'"
         ]
      },
      {
         "cell_type": "code",
         "execution_count": 3,
         "metadata": {},
         "outputs": [],
         "source": [
            "train_pandas_dataset, classes = get_pandas_dataset(train_dataset_path)\n",
            "\n",
            "radius_value = 3\n",
            "\n",
            "frame_dataset = FrameDataset(train_pandas_dataset, baseTrainPath, \n",
            "                             #transforms=get_transform(train=True), \n",
            "                             normalization='local_contrast_normalization')\n",
            "train_dataset, test_dataset = split_dataset(frame_dataset)\n",
            "\n",
            "pin_memory = torch.cuda.is_available()\n",
            "\n",
            "train_dataloader = torch.utils.data.DataLoader(\n",
            "    train_dataset,\n",
            "    batch_size=16,\n",
            "    shuffle=True,\n",
            "    collate_fn=lambda x: x,\n",
            "    pin_memory=pin_memory)\n",
            "\n",
            "test_dataloader = torch.utils.data.DataLoader(\n",
            "    test_dataset,\n",
            "    batch_size=16,\n",
            "    collate_fn=lambda x: x,\n",
            "    pin_memory=pin_memory)\n",
            "\n",
            "val_pandas_dataset, _ = get_pandas_dataset(val_dataset_path, val=True)\n",
            "val_frame_dataset = FrameDataset(val_pandas_dataset, baseValPath, val=True)\n",
            "val_index_map = list(val_pandas_dataset['id'])\n",
            "\n",
            "val_dataloader = torch.utils.data.DataLoader(\n",
            "    val_frame_dataset,\n",
            "    batch_size=16,\n",
            "    collate_fn=lambda x: x,\n",
            "    pin_memory=pin_memory)"
         ]
      },
      {
         "cell_type": "code",
         "execution_count": 4,
         "metadata": {},
         "outputs": [
            {
               "name": "stderr",
               "output_type": "stream",
               "text": [
                  "Epoch 0: 100%|██████████| 597/597 [04:31<00:00,  2.20it/s]\n",
                  "Test: 100%|██████████| 67/67 [00:29<00:00,  2.29it/s]\n"
               ]
            },
            {
               "name": "stdout",
               "output_type": "stream",
               "text": [
                  "Epoch 0: train_loss  0.60, mAP  0.03\n"
               ]
            }
         ],
         "source": [
            "device = torch.device('cuda') if torch.cuda.is_available() else torch.device('cpu')\n",
            "autocast = torch.cuda.is_available()\n",
            "\n",
            "model = get_model(len(classes)).to(device)\n",
            "optimizer = torch.optim.Adam(model.parameters(), lr=0.001)\n",
            "# lr_scheduler = torch.optim.lr_scheduler.StepLR(optimizer,\n",
            "#                                                    step_size=5,\n",
            "#                                                    gamma=0.1)\n",
            "lr_scheduler = None\n",
            "num_epochs = 50\n",
            "\n",
            "trainer = Trainer(\n",
            "    model=model,\n",
            "    train_dataloader=train_dataloader,\n",
            "    test_dataloader=test_dataloader,\n",
            "    val_dataloader=val_dataloader,\n",
            "    optimizer=optimizer,\n",
            "    scheduler=lr_scheduler,\n",
            "    num_epochs=num_epochs,\n",
            "    device=device,\n",
            "    autocast=autocast\n",
            ")\n",
            "\n",
            "trainer.train()\n",
            "\n",
            "result = trainer.eval()\n",
            "prepare_result(result, 'result.csv', val_index_map)"
         ]
      },
      {
         "cell_type": "code",
         "execution_count": null,
         "metadata": {},
         "outputs": [],
         "source": []
      }
   ],
   "metadata": {
      "kernelspec": {
         "display_name": "venv",
         "language": "python",
         "name": "python3"
      },
      "language_info": {
         "codemirror_mode": {
            "name": "ipython",
            "version": 3
         },
         "file_extension": ".py",
         "mimetype": "text/x-python",
         "name": "python",
         "nbconvert_exporter": "python",
         "pygments_lexer": "ipython3",
         "version": "3.10.12"
      }
   },
   "nbformat": 4,
   "nbformat_minor": 2
}
