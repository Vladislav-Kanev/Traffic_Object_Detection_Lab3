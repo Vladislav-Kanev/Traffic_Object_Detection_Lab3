{
   "cells": [
      {
         "cell_type": "code",
         "execution_count": 1,
         "metadata": {},
         "outputs": [],
         "source": [
            "import torch\n",
            "\n",
            "from src.model import get_model\n",
            "from src.dataset import FrameDataset, split_dataset, get_pandas_dataset\n",
            "from src.trainer import Trainer\n",
            "from src.results import prepare_result\n",
            "from src.transforms import get_transform"
         ]
      },
      {
         "cell_type": "code",
         "execution_count": 2,
         "metadata": {},
         "outputs": [],
         "source": [
            "baseTrainPath = 'data/train_images/train_images/'\n",
            "train_dataset_path = 'data/usdc_train.json'\n",
            "\n",
            "baseValPath = 'data/test_images/test_images/'\n",
            "val_dataset_path = 'data/test_file_names.json'"
         ]
      },
      {
         "cell_type": "code",
         "execution_count": 3,
         "metadata": {},
         "outputs": [],
         "source": [
            "normalization = 'local_contrast_normalization'\n",
            "apply_transforms = False\n",
            "batch_size = 32\n",
            "\n",
            "train_pandas_dataset, classes = get_pandas_dataset(train_dataset_path)\n",
            "\n",
            "frame_dataset = FrameDataset(train_pandas_dataset, baseTrainPath, \n",
            "                             transforms=get_transform() if apply_transforms else None,\n",
            "                             normalization=normalization)\n",
            "train_dataset, test_dataset = split_dataset(frame_dataset)\n",
            "\n",
            "pin_memory = torch.cuda.is_available()\n",
            "\n",
            "train_dataloader = torch.utils.data.DataLoader(\n",
            "    train_dataset,\n",
            "    batch_size=batch_size,\n",
            "    shuffle=True,\n",
            "    collate_fn=lambda x: x,\n",
            "    pin_memory=pin_memory)\n",
            "\n",
            "test_dataloader = torch.utils.data.DataLoader(\n",
            "    test_dataset,\n",
            "    batch_size=batch_size,\n",
            "    collate_fn=lambda x: x,\n",
            "    pin_memory=pin_memory)\n",
            "\n",
            "val_pandas_dataset, _ = get_pandas_dataset(val_dataset_path, val=True)\n",
            "val_frame_dataset = FrameDataset(val_pandas_dataset, baseValPath,\n",
            "                                 transforms=get_transform(val=True) if apply_transforms else None,\n",
            "                                 val=True,\n",
            "                                 normalization=normalization)\n",
            "val_index_map = list(val_pandas_dataset['id'])\n",
            "\n",
            "val_dataloader = torch.utils.data.DataLoader(\n",
            "    val_frame_dataset,\n",
            "    batch_size=batch_size,\n",
            "    collate_fn=lambda x: x,\n",
            "    pin_memory=pin_memory)"
         ]
      },
      {
         "cell_type": "code",
         "execution_count": 4,
         "metadata": {},
         "outputs": [
            {
               "name": "stderr",
               "output_type": "stream",
               "text": [
                  "Epoch 0: 100%|██████████| 597/597 [04:33<00:00,  2.18it/s]\n",
                  "Test: 100%|██████████| 67/67 [00:29<00:00,  2.30it/s]\n"
               ]
            },
            {
               "name": "stdout",
               "output_type": "stream",
               "text": [
                  "Epoch 0: train_loss  0.63, mAP  0.04\n"
               ]
            },
            {
               "name": "stderr",
               "output_type": "stream",
               "text": [
                  "Epoch 1: 100%|██████████| 597/597 [04:24<00:00,  2.26it/s]\n",
                  "Test: 100%|██████████| 67/67 [00:29<00:00,  2.29it/s]\n"
               ]
            },
            {
               "name": "stdout",
               "output_type": "stream",
               "text": [
                  "Epoch 1: train_loss  0.70, mAP  0.04\n"
               ]
            },
            {
               "name": "stderr",
               "output_type": "stream",
               "text": [
                  "Epoch 2: 100%|██████████| 597/597 [04:21<00:00,  2.29it/s]\n",
                  "Test: 100%|██████████| 67/67 [00:28<00:00,  2.32it/s]\n"
               ]
            },
            {
               "name": "stdout",
               "output_type": "stream",
               "text": [
                  "Epoch 2: train_loss  0.73, mAP  0.04\n"
               ]
            },
            {
               "name": "stderr",
               "output_type": "stream",
               "text": [
                  "Epoch 3: 100%|██████████| 597/597 [04:20<00:00,  2.30it/s]\n",
                  "Test: 100%|██████████| 67/67 [00:28<00:00,  2.31it/s]\n"
               ]
            },
            {
               "name": "stdout",
               "output_type": "stream",
               "text": [
                  "Epoch 3: train_loss  0.75, mAP  0.05\n"
               ]
            },
            {
               "name": "stderr",
               "output_type": "stream",
               "text": [
                  "Epoch 4: 100%|██████████| 597/597 [04:20<00:00,  2.29it/s]\n",
                  "Test: 100%|██████████| 67/67 [00:29<00:00,  2.30it/s]\n"
               ]
            },
            {
               "name": "stdout",
               "output_type": "stream",
               "text": [
                  "Epoch 4: train_loss  0.75, mAP  0.05\n"
               ]
            },
            {
               "name": "stderr",
               "output_type": "stream",
               "text": [
                  "Epoch 5: 100%|██████████| 597/597 [04:24<00:00,  2.25it/s]\n",
                  "Test: 100%|██████████| 67/67 [00:29<00:00,  2.29it/s]\n"
               ]
            },
            {
               "name": "stdout",
               "output_type": "stream",
               "text": [
                  "Epoch 5: train_loss  0.75, mAP  0.05\n"
               ]
            },
            {
               "name": "stderr",
               "output_type": "stream",
               "text": [
                  "Epoch 6: 100%|██████████| 597/597 [04:22<00:00,  2.27it/s]\n",
                  "Test: 100%|██████████| 67/67 [00:29<00:00,  2.29it/s]\n"
               ]
            },
            {
               "name": "stdout",
               "output_type": "stream",
               "text": [
                  "Epoch 6: train_loss  0.76, mAP  0.05\n"
               ]
            },
            {
               "name": "stderr",
               "output_type": "stream",
               "text": [
                  "Epoch 7: 100%|██████████| 597/597 [04:21<00:00,  2.28it/s]\n",
                  "Test: 100%|██████████| 67/67 [00:29<00:00,  2.29it/s]\n"
               ]
            },
            {
               "name": "stdout",
               "output_type": "stream",
               "text": [
                  "Epoch 7: train_loss  0.75, mAP  0.05\n"
               ]
            },
            {
               "name": "stderr",
               "output_type": "stream",
               "text": [
                  "Epoch 8: 100%|██████████| 597/597 [04:23<00:00,  2.26it/s]\n",
                  "Test: 100%|██████████| 67/67 [00:29<00:00,  2.29it/s]\n"
               ]
            },
            {
               "name": "stdout",
               "output_type": "stream",
               "text": [
                  "Epoch 8: train_loss  0.75, mAP  0.05\n"
               ]
            },
            {
               "name": "stderr",
               "output_type": "stream",
               "text": [
                  "Epoch 9: 100%|██████████| 597/597 [04:23<00:00,  2.27it/s]\n",
                  "Test: 100%|██████████| 67/67 [00:29<00:00,  2.29it/s]\n"
               ]
            },
            {
               "name": "stdout",
               "output_type": "stream",
               "text": [
                  "Epoch 9: train_loss  0.76, mAP  0.05\n"
               ]
            },
            {
               "name": "stderr",
               "output_type": "stream",
               "text": [
                  "Epoch 10: 100%|██████████| 597/597 [04:24<00:00,  2.26it/s]\n",
                  "Test: 100%|██████████| 67/67 [00:29<00:00,  2.30it/s]\n"
               ]
            },
            {
               "name": "stdout",
               "output_type": "stream",
               "text": [
                  "Epoch 10: train_loss  0.75, mAP  0.05\n"
               ]
            },
            {
               "name": "stderr",
               "output_type": "stream",
               "text": [
                  "Epoch 11: 100%|██████████| 597/597 [04:24<00:00,  2.26it/s]\n",
                  "Test: 100%|██████████| 67/67 [00:29<00:00,  2.31it/s]\n"
               ]
            },
            {
               "name": "stdout",
               "output_type": "stream",
               "text": [
                  "Epoch 11: train_loss  0.75, mAP  0.05\n"
               ]
            },
            {
               "name": "stderr",
               "output_type": "stream",
               "text": [
                  "Epoch 12: 100%|██████████| 597/597 [04:26<00:00,  2.24it/s]\n",
                  "Test: 100%|██████████| 67/67 [00:29<00:00,  2.30it/s]\n"
               ]
            },
            {
               "name": "stdout",
               "output_type": "stream",
               "text": [
                  "Epoch 12: train_loss  0.76, mAP  0.06\n"
               ]
            },
            {
               "name": "stderr",
               "output_type": "stream",
               "text": [
                  "Epoch 13: 100%|██████████| 597/597 [04:26<00:00,  2.24it/s]\n",
                  "Test: 100%|██████████| 67/67 [00:29<00:00,  2.29it/s]\n"
               ]
            },
            {
               "name": "stdout",
               "output_type": "stream",
               "text": [
                  "Epoch 13: train_loss  0.75, mAP  0.06\n"
               ]
            },
            {
               "name": "stderr",
               "output_type": "stream",
               "text": [
                  "Epoch 14: 100%|██████████| 597/597 [04:20<00:00,  2.29it/s]\n",
                  "Test: 100%|██████████| 67/67 [00:29<00:00,  2.29it/s]\n"
               ]
            },
            {
               "name": "stdout",
               "output_type": "stream",
               "text": [
                  "Epoch 14: train_loss  0.76, mAP  0.06\n"
               ]
            },
            {
               "name": "stderr",
               "output_type": "stream",
               "text": [
                  "Epoch 15: 100%|██████████| 597/597 [04:23<00:00,  2.27it/s]\n",
                  "Test: 100%|██████████| 67/67 [00:29<00:00,  2.26it/s]\n"
               ]
            },
            {
               "name": "stdout",
               "output_type": "stream",
               "text": [
                  "Epoch 15: train_loss  0.75, mAP  0.06\n"
               ]
            },
            {
               "name": "stderr",
               "output_type": "stream",
               "text": [
                  "Epoch 16: 100%|██████████| 597/597 [04:23<00:00,  2.26it/s]\n",
                  "Test: 100%|██████████| 67/67 [00:29<00:00,  2.29it/s]\n"
               ]
            },
            {
               "name": "stdout",
               "output_type": "stream",
               "text": [
                  "Epoch 16: train_loss  0.75, mAP  0.06\n"
               ]
            },
            {
               "name": "stderr",
               "output_type": "stream",
               "text": [
                  "Epoch 17: 100%|██████████| 597/597 [04:21<00:00,  2.28it/s]\n",
                  "Test: 100%|██████████| 67/67 [00:29<00:00,  2.29it/s]\n"
               ]
            },
            {
               "name": "stdout",
               "output_type": "stream",
               "text": [
                  "Epoch 17: train_loss  0.76, mAP  0.06\n"
               ]
            },
            {
               "name": "stderr",
               "output_type": "stream",
               "text": [
                  "Epoch 18: 100%|██████████| 597/597 [04:20<00:00,  2.29it/s]\n",
                  "Test: 100%|██████████| 67/67 [00:29<00:00,  2.30it/s]\n"
               ]
            },
            {
               "name": "stdout",
               "output_type": "stream",
               "text": [
                  "Epoch 18: train_loss  0.76, mAP  0.06\n"
               ]
            },
            {
               "name": "stderr",
               "output_type": "stream",
               "text": [
                  "Epoch 19: 100%|██████████| 597/597 [04:21<00:00,  2.28it/s]\n",
                  "Test: 100%|██████████| 67/67 [00:29<00:00,  2.30it/s]\n"
               ]
            },
            {
               "name": "stdout",
               "output_type": "stream",
               "text": [
                  "Epoch 19: train_loss  0.75, mAP  0.06\n"
               ]
            },
            {
               "name": "stderr",
               "output_type": "stream",
               "text": [
                  "Epoch 20: 100%|██████████| 597/597 [04:23<00:00,  2.27it/s]\n",
                  "Test: 100%|██████████| 67/67 [00:29<00:00,  2.27it/s]\n"
               ]
            },
            {
               "name": "stdout",
               "output_type": "stream",
               "text": [
                  "Epoch 20: train_loss  0.76, mAP  0.06\n"
               ]
            },
            {
               "name": "stderr",
               "output_type": "stream",
               "text": [
                  "Epoch 21: 100%|██████████| 597/597 [04:23<00:00,  2.26it/s]\n",
                  "Test: 100%|██████████| 67/67 [00:29<00:00,  2.29it/s]\n"
               ]
            },
            {
               "name": "stdout",
               "output_type": "stream",
               "text": [
                  "Epoch 21: train_loss  0.76, mAP  0.06\n"
               ]
            },
            {
               "name": "stderr",
               "output_type": "stream",
               "text": [
                  "Epoch 22: 100%|██████████| 597/597 [04:24<00:00,  2.26it/s]\n",
                  "Test: 100%|██████████| 67/67 [00:29<00:00,  2.29it/s]\n"
               ]
            },
            {
               "name": "stdout",
               "output_type": "stream",
               "text": [
                  "Epoch 22: train_loss  0.77, mAP  0.06\n"
               ]
            },
            {
               "name": "stderr",
               "output_type": "stream",
               "text": [
                  "Epoch 23: 100%|██████████| 597/597 [04:24<00:00,  2.26it/s]\n",
                  "Test: 100%|██████████| 67/67 [00:29<00:00,  2.28it/s]\n"
               ]
            },
            {
               "name": "stdout",
               "output_type": "stream",
               "text": [
                  "Epoch 23: train_loss  0.76, mAP  0.06\n"
               ]
            },
            {
               "name": "stderr",
               "output_type": "stream",
               "text": [
                  "Epoch 24: 100%|██████████| 597/597 [04:24<00:00,  2.25it/s]\n",
                  "Test: 100%|██████████| 67/67 [00:29<00:00,  2.29it/s]\n"
               ]
            },
            {
               "name": "stdout",
               "output_type": "stream",
               "text": [
                  "Epoch 24: train_loss  0.77, mAP  0.06\n"
               ]
            },
            {
               "name": "stderr",
               "output_type": "stream",
               "text": [
                  "Epoch 25: 100%|██████████| 597/597 [04:24<00:00,  2.26it/s]\n",
                  "Test: 100%|██████████| 67/67 [00:29<00:00,  2.28it/s]\n"
               ]
            },
            {
               "name": "stdout",
               "output_type": "stream",
               "text": [
                  "Epoch 25: train_loss  0.76, mAP  0.06\n"
               ]
            },
            {
               "name": "stderr",
               "output_type": "stream",
               "text": [
                  "Epoch 26: 100%|██████████| 597/597 [04:24<00:00,  2.25it/s]\n",
                  "Test: 100%|██████████| 67/67 [00:29<00:00,  2.29it/s]\n"
               ]
            },
            {
               "name": "stdout",
               "output_type": "stream",
               "text": [
                  "Epoch 26: train_loss  0.77, mAP  0.06\n"
               ]
            },
            {
               "name": "stderr",
               "output_type": "stream",
               "text": [
                  "Epoch 27: 100%|██████████| 597/597 [04:23<00:00,  2.27it/s]\n",
                  "Test: 100%|██████████| 67/67 [00:29<00:00,  2.27it/s]\n"
               ]
            },
            {
               "name": "stdout",
               "output_type": "stream",
               "text": [
                  "Epoch 27: train_loss  0.74, mAP  0.06\n"
               ]
            },
            {
               "name": "stderr",
               "output_type": "stream",
               "text": [
                  "Epoch 28: 100%|██████████| 597/597 [04:24<00:00,  2.25it/s]\n",
                  "Test: 100%|██████████| 67/67 [00:29<00:00,  2.27it/s]\n"
               ]
            },
            {
               "name": "stdout",
               "output_type": "stream",
               "text": [
                  "Epoch 28: train_loss  0.77, mAP  0.06\n"
               ]
            },
            {
               "name": "stderr",
               "output_type": "stream",
               "text": [
                  "Epoch 29: 100%|██████████| 597/597 [04:24<00:00,  2.26it/s]\n",
                  "Test: 100%|██████████| 67/67 [00:29<00:00,  2.28it/s]\n"
               ]
            },
            {
               "name": "stdout",
               "output_type": "stream",
               "text": [
                  "Epoch 29: train_loss  0.77, mAP  0.06\n"
               ]
            },
            {
               "name": "stderr",
               "output_type": "stream",
               "text": [
                  "Epoch 30: 100%|██████████| 597/597 [04:25<00:00,  2.25it/s]\n",
                  "Test: 100%|██████████| 67/67 [00:29<00:00,  2.26it/s]\n"
               ]
            },
            {
               "name": "stdout",
               "output_type": "stream",
               "text": [
                  "Epoch 30: train_loss  0.77, mAP  0.06\n"
               ]
            },
            {
               "name": "stderr",
               "output_type": "stream",
               "text": [
                  "Epoch 31: 100%|██████████| 597/597 [04:24<00:00,  2.26it/s]\n",
                  "Test: 100%|██████████| 67/67 [00:29<00:00,  2.30it/s]\n"
               ]
            },
            {
               "name": "stdout",
               "output_type": "stream",
               "text": [
                  "Epoch 31: train_loss  0.77, mAP  0.07\n"
               ]
            },
            {
               "name": "stderr",
               "output_type": "stream",
               "text": [
                  "Epoch 32: 100%|██████████| 597/597 [04:28<00:00,  2.22it/s]\n",
                  "Test: 100%|██████████| 67/67 [00:29<00:00,  2.27it/s]\n"
               ]
            },
            {
               "name": "stdout",
               "output_type": "stream",
               "text": [
                  "Epoch 32: train_loss  0.76, mAP  0.07\n"
               ]
            },
            {
               "name": "stderr",
               "output_type": "stream",
               "text": [
                  "Epoch 33: 100%|██████████| 597/597 [04:28<00:00,  2.22it/s]\n",
                  "Test: 100%|██████████| 67/67 [00:29<00:00,  2.28it/s]\n"
               ]
            },
            {
               "name": "stdout",
               "output_type": "stream",
               "text": [
                  "Epoch 33: train_loss  0.76, mAP  0.07\n"
               ]
            },
            {
               "name": "stderr",
               "output_type": "stream",
               "text": [
                  "Epoch 34: 100%|██████████| 597/597 [04:28<00:00,  2.22it/s]\n",
                  "Test: 100%|██████████| 67/67 [00:29<00:00,  2.26it/s]\n"
               ]
            },
            {
               "name": "stdout",
               "output_type": "stream",
               "text": [
                  "Epoch 34: train_loss  0.77, mAP  0.07\n"
               ]
            },
            {
               "name": "stderr",
               "output_type": "stream",
               "text": [
                  "Epoch 35: 100%|██████████| 597/597 [04:29<00:00,  2.21it/s]\n",
                  "Test: 100%|██████████| 67/67 [00:29<00:00,  2.26it/s]\n"
               ]
            },
            {
               "name": "stdout",
               "output_type": "stream",
               "text": [
                  "Epoch 35: train_loss  0.77, mAP  0.07\n"
               ]
            },
            {
               "name": "stderr",
               "output_type": "stream",
               "text": [
                  "Epoch 36: 100%|██████████| 597/597 [04:29<00:00,  2.21it/s]\n",
                  "Test: 100%|██████████| 67/67 [00:29<00:00,  2.27it/s]\n"
               ]
            },
            {
               "name": "stdout",
               "output_type": "stream",
               "text": [
                  "Epoch 36: train_loss  0.77, mAP  0.07\n"
               ]
            },
            {
               "name": "stderr",
               "output_type": "stream",
               "text": [
                  "Epoch 37: 100%|██████████| 597/597 [04:31<00:00,  2.20it/s]\n",
                  "Test: 100%|██████████| 67/67 [00:29<00:00,  2.25it/s]\n"
               ]
            },
            {
               "name": "stdout",
               "output_type": "stream",
               "text": [
                  "Epoch 37: train_loss  0.77, mAP  0.07\n"
               ]
            },
            {
               "name": "stderr",
               "output_type": "stream",
               "text": [
                  "Epoch 38: 100%|██████████| 597/597 [04:30<00:00,  2.21it/s]\n",
                  "Test: 100%|██████████| 67/67 [00:29<00:00,  2.28it/s]\n"
               ]
            },
            {
               "name": "stdout",
               "output_type": "stream",
               "text": [
                  "Epoch 38: train_loss  0.76, mAP  0.07\n"
               ]
            },
            {
               "name": "stderr",
               "output_type": "stream",
               "text": [
                  "Epoch 39: 100%|██████████| 597/597 [04:30<00:00,  2.20it/s]\n",
                  "Test: 100%|██████████| 67/67 [00:30<00:00,  2.20it/s]\n"
               ]
            },
            {
               "name": "stdout",
               "output_type": "stream",
               "text": [
                  "Epoch 39: train_loss  0.77, mAP  0.07\n"
               ]
            },
            {
               "name": "stderr",
               "output_type": "stream",
               "text": [
                  "Epoch 40: 100%|██████████| 597/597 [04:24<00:00,  2.26it/s]\n",
                  "Test: 100%|██████████| 67/67 [00:29<00:00,  2.27it/s]\n"
               ]
            },
            {
               "name": "stdout",
               "output_type": "stream",
               "text": [
                  "Epoch 40: train_loss  0.76, mAP  0.07\n"
               ]
            },
            {
               "name": "stderr",
               "output_type": "stream",
               "text": [
                  "Epoch 41: 100%|██████████| 597/597 [04:24<00:00,  2.26it/s]\n",
                  "Test: 100%|██████████| 67/67 [00:29<00:00,  2.28it/s]\n"
               ]
            },
            {
               "name": "stdout",
               "output_type": "stream",
               "text": [
                  "Epoch 41: train_loss  0.78, mAP  0.07\n"
               ]
            },
            {
               "name": "stderr",
               "output_type": "stream",
               "text": [
                  "Epoch 42: 100%|██████████| 597/597 [04:25<00:00,  2.25it/s]\n",
                  "Test: 100%|██████████| 67/67 [00:29<00:00,  2.29it/s]\n"
               ]
            },
            {
               "name": "stdout",
               "output_type": "stream",
               "text": [
                  "Epoch 42: train_loss  0.76, mAP  0.07\n"
               ]
            },
            {
               "name": "stderr",
               "output_type": "stream",
               "text": [
                  "Epoch 43: 100%|██████████| 597/597 [04:25<00:00,  2.25it/s]\n",
                  "Test: 100%|██████████| 67/67 [00:29<00:00,  2.27it/s]\n"
               ]
            },
            {
               "name": "stdout",
               "output_type": "stream",
               "text": [
                  "Epoch 43: train_loss  0.77, mAP  0.07\n"
               ]
            },
            {
               "name": "stderr",
               "output_type": "stream",
               "text": [
                  "Epoch 44: 100%|██████████| 597/597 [04:25<00:00,  2.25it/s]\n",
                  "Test: 100%|██████████| 67/67 [00:29<00:00,  2.26it/s]\n"
               ]
            },
            {
               "name": "stdout",
               "output_type": "stream",
               "text": [
                  "Epoch 44: train_loss  0.77, mAP  0.07\n"
               ]
            },
            {
               "name": "stderr",
               "output_type": "stream",
               "text": [
                  "Epoch 45: 100%|██████████| 597/597 [04:55<00:00,  2.02it/s]\n",
                  "Test: 100%|██████████| 67/67 [00:30<00:00,  2.23it/s]\n"
               ]
            },
            {
               "name": "stdout",
               "output_type": "stream",
               "text": [
                  "Epoch 45: train_loss  0.77, mAP  0.07\n"
               ]
            },
            {
               "name": "stderr",
               "output_type": "stream",
               "text": [
                  "Epoch 46: 100%|██████████| 597/597 [04:33<00:00,  2.18it/s]\n",
                  "Test: 100%|██████████| 67/67 [00:30<00:00,  2.23it/s]\n"
               ]
            },
            {
               "name": "stdout",
               "output_type": "stream",
               "text": [
                  "Epoch 46: train_loss  0.77, mAP  0.07\n"
               ]
            },
            {
               "name": "stderr",
               "output_type": "stream",
               "text": [
                  "Epoch 47: 100%|██████████| 597/597 [04:33<00:00,  2.18it/s]\n",
                  "Test: 100%|██████████| 67/67 [00:30<00:00,  2.22it/s]\n"
               ]
            },
            {
               "name": "stdout",
               "output_type": "stream",
               "text": [
                  "Epoch 47: train_loss  0.77, mAP  0.07\n"
               ]
            },
            {
               "name": "stderr",
               "output_type": "stream",
               "text": [
                  "Epoch 48: 100%|██████████| 597/597 [04:33<00:00,  2.18it/s]\n",
                  "Test: 100%|██████████| 67/67 [00:30<00:00,  2.21it/s]\n"
               ]
            },
            {
               "name": "stdout",
               "output_type": "stream",
               "text": [
                  "Epoch 48: train_loss  0.77, mAP  0.07\n"
               ]
            },
            {
               "name": "stderr",
               "output_type": "stream",
               "text": [
                  "Epoch 49: 100%|██████████| 597/597 [04:35<00:00,  2.17it/s]\n",
                  "Test: 100%|██████████| 67/67 [00:30<00:00,  2.21it/s]\n"
               ]
            },
            {
               "name": "stdout",
               "output_type": "stream",
               "text": [
                  "Epoch 49: train_loss  0.77, mAP  0.07\n"
               ]
            },
            {
               "name": "stderr",
               "output_type": "stream",
               "text": [
                  "Validation:   0%|          | 0/188 [00:00<?, ?it/s]\n"
               ]
            },
            {
               "ename": "TypeError",
               "evalue": "Expected input images to be of floating type (in range [0, 1]), but found type torch.uint8 instead",
               "output_type": "error",
               "traceback": [
                  "\u001b[0;31m---------------------------------------------------------------------------\u001b[0m",
                  "\u001b[0;31mTypeError\u001b[0m                                 Traceback (most recent call last)",
                  "\u001b[1;32m/home/habkaffee/programming/machine_learning/Traffic_Object_Detection_Lab3/test.ipynb Cell 4\u001b[0m line \u001b[0;36m2\n\u001b[1;32m     <a href='vscode-notebook-cell://wsl%2Bubuntu/home/habkaffee/programming/machine_learning/Traffic_Object_Detection_Lab3/test.ipynb#W3sdnNjb2RlLXJlbW90ZQ%3D%3D?line=11'>12</a>\u001b[0m trainer \u001b[39m=\u001b[39m Trainer(\n\u001b[1;32m     <a href='vscode-notebook-cell://wsl%2Bubuntu/home/habkaffee/programming/machine_learning/Traffic_Object_Detection_Lab3/test.ipynb#W3sdnNjb2RlLXJlbW90ZQ%3D%3D?line=12'>13</a>\u001b[0m     model\u001b[39m=\u001b[39mmodel,\n\u001b[1;32m     <a href='vscode-notebook-cell://wsl%2Bubuntu/home/habkaffee/programming/machine_learning/Traffic_Object_Detection_Lab3/test.ipynb#W3sdnNjb2RlLXJlbW90ZQ%3D%3D?line=13'>14</a>\u001b[0m     train_dataloader\u001b[39m=\u001b[39mtrain_dataloader,\n\u001b[0;32m   (...)\u001b[0m\n\u001b[1;32m     <a href='vscode-notebook-cell://wsl%2Bubuntu/home/habkaffee/programming/machine_learning/Traffic_Object_Detection_Lab3/test.ipynb#W3sdnNjb2RlLXJlbW90ZQ%3D%3D?line=20'>21</a>\u001b[0m     autocast\u001b[39m=\u001b[39mautocast\n\u001b[1;32m     <a href='vscode-notebook-cell://wsl%2Bubuntu/home/habkaffee/programming/machine_learning/Traffic_Object_Detection_Lab3/test.ipynb#W3sdnNjb2RlLXJlbW90ZQ%3D%3D?line=21'>22</a>\u001b[0m )\n\u001b[1;32m     <a href='vscode-notebook-cell://wsl%2Bubuntu/home/habkaffee/programming/machine_learning/Traffic_Object_Detection_Lab3/test.ipynb#W3sdnNjb2RlLXJlbW90ZQ%3D%3D?line=23'>24</a>\u001b[0m trainer\u001b[39m.\u001b[39mtrain()\n\u001b[0;32m---> <a href='vscode-notebook-cell://wsl%2Bubuntu/home/habkaffee/programming/machine_learning/Traffic_Object_Detection_Lab3/test.ipynb#W3sdnNjb2RlLXJlbW90ZQ%3D%3D?line=25'>26</a>\u001b[0m result \u001b[39m=\u001b[39m trainer\u001b[39m.\u001b[39;49meval()\n\u001b[1;32m     <a href='vscode-notebook-cell://wsl%2Bubuntu/home/habkaffee/programming/machine_learning/Traffic_Object_Detection_Lab3/test.ipynb#W3sdnNjb2RlLXJlbW90ZQ%3D%3D?line=26'>27</a>\u001b[0m prepare_result(result, \u001b[39m'\u001b[39m\u001b[39mresult.csv\u001b[39m\u001b[39m'\u001b[39m, val_index_map)\n",
                  "File \u001b[0;32m~/programming/machine_learning/Traffic_Object_Detection_Lab3/venv/lib/python3.10/site-packages/torch/utils/_contextlib.py:115\u001b[0m, in \u001b[0;36mcontext_decorator.<locals>.decorate_context\u001b[0;34m(*args, **kwargs)\u001b[0m\n\u001b[1;32m    112\u001b[0m \u001b[39m@functools\u001b[39m\u001b[39m.\u001b[39mwraps(func)\n\u001b[1;32m    113\u001b[0m \u001b[39mdef\u001b[39;00m \u001b[39mdecorate_context\u001b[39m(\u001b[39m*\u001b[39margs, \u001b[39m*\u001b[39m\u001b[39m*\u001b[39mkwargs):\n\u001b[1;32m    114\u001b[0m     \u001b[39mwith\u001b[39;00m ctx_factory():\n\u001b[0;32m--> 115\u001b[0m         \u001b[39mreturn\u001b[39;00m func(\u001b[39m*\u001b[39;49margs, \u001b[39m*\u001b[39;49m\u001b[39m*\u001b[39;49mkwargs)\n",
                  "File \u001b[0;32m~/programming/machine_learning/Traffic_Object_Detection_Lab3/src/trainer.py:95\u001b[0m, in \u001b[0;36mTrainer.eval\u001b[0;34m(self)\u001b[0m\n\u001b[1;32m     93\u001b[0m     \u001b[39mfor\u001b[39;00m sample \u001b[39min\u001b[39;00m batch:\n\u001b[1;32m     94\u001b[0m         batch_imgs\u001b[39m.\u001b[39mappend(sample[\u001b[39m0\u001b[39m]\u001b[39m.\u001b[39mto(\u001b[39mself\u001b[39m\u001b[39m.\u001b[39m_device))\n\u001b[0;32m---> 95\u001b[0m     batch_result_dict \u001b[39m=\u001b[39m \u001b[39mself\u001b[39;49m\u001b[39m.\u001b[39;49m_model(batch_imgs)\n\u001b[1;32m     96\u001b[0m     result\u001b[39m.\u001b[39mextend(batch_result_dict)\n\u001b[1;32m     97\u001b[0m \u001b[39mreturn\u001b[39;00m result\n",
                  "File \u001b[0;32m~/programming/machine_learning/Traffic_Object_Detection_Lab3/venv/lib/python3.10/site-packages/torch/nn/modules/module.py:1518\u001b[0m, in \u001b[0;36mModule._wrapped_call_impl\u001b[0;34m(self, *args, **kwargs)\u001b[0m\n\u001b[1;32m   1516\u001b[0m     \u001b[39mreturn\u001b[39;00m \u001b[39mself\u001b[39m\u001b[39m.\u001b[39m_compiled_call_impl(\u001b[39m*\u001b[39margs, \u001b[39m*\u001b[39m\u001b[39m*\u001b[39mkwargs)  \u001b[39m# type: ignore[misc]\u001b[39;00m\n\u001b[1;32m   1517\u001b[0m \u001b[39melse\u001b[39;00m:\n\u001b[0;32m-> 1518\u001b[0m     \u001b[39mreturn\u001b[39;00m \u001b[39mself\u001b[39;49m\u001b[39m.\u001b[39;49m_call_impl(\u001b[39m*\u001b[39;49margs, \u001b[39m*\u001b[39;49m\u001b[39m*\u001b[39;49mkwargs)\n",
                  "File \u001b[0;32m~/programming/machine_learning/Traffic_Object_Detection_Lab3/venv/lib/python3.10/site-packages/torch/nn/modules/module.py:1527\u001b[0m, in \u001b[0;36mModule._call_impl\u001b[0;34m(self, *args, **kwargs)\u001b[0m\n\u001b[1;32m   1522\u001b[0m \u001b[39m# If we don't have any hooks, we want to skip the rest of the logic in\u001b[39;00m\n\u001b[1;32m   1523\u001b[0m \u001b[39m# this function, and just call forward.\u001b[39;00m\n\u001b[1;32m   1524\u001b[0m \u001b[39mif\u001b[39;00m \u001b[39mnot\u001b[39;00m (\u001b[39mself\u001b[39m\u001b[39m.\u001b[39m_backward_hooks \u001b[39mor\u001b[39;00m \u001b[39mself\u001b[39m\u001b[39m.\u001b[39m_backward_pre_hooks \u001b[39mor\u001b[39;00m \u001b[39mself\u001b[39m\u001b[39m.\u001b[39m_forward_hooks \u001b[39mor\u001b[39;00m \u001b[39mself\u001b[39m\u001b[39m.\u001b[39m_forward_pre_hooks\n\u001b[1;32m   1525\u001b[0m         \u001b[39mor\u001b[39;00m _global_backward_pre_hooks \u001b[39mor\u001b[39;00m _global_backward_hooks\n\u001b[1;32m   1526\u001b[0m         \u001b[39mor\u001b[39;00m _global_forward_hooks \u001b[39mor\u001b[39;00m _global_forward_pre_hooks):\n\u001b[0;32m-> 1527\u001b[0m     \u001b[39mreturn\u001b[39;00m forward_call(\u001b[39m*\u001b[39;49margs, \u001b[39m*\u001b[39;49m\u001b[39m*\u001b[39;49mkwargs)\n\u001b[1;32m   1529\u001b[0m \u001b[39mtry\u001b[39;00m:\n\u001b[1;32m   1530\u001b[0m     result \u001b[39m=\u001b[39m \u001b[39mNone\u001b[39;00m\n",
                  "File \u001b[0;32m~/programming/machine_learning/Traffic_Object_Detection_Lab3/venv/lib/python3.10/site-packages/torchvision/models/detection/generalized_rcnn.py:83\u001b[0m, in \u001b[0;36mGeneralizedRCNN.forward\u001b[0;34m(self, images, targets)\u001b[0m\n\u001b[1;32m     77\u001b[0m     torch\u001b[39m.\u001b[39m_assert(\n\u001b[1;32m     78\u001b[0m         \u001b[39mlen\u001b[39m(val) \u001b[39m==\u001b[39m \u001b[39m2\u001b[39m,\n\u001b[1;32m     79\u001b[0m         \u001b[39mf\u001b[39m\u001b[39m\"\u001b[39m\u001b[39mexpecting the last two dimensions of the Tensor to be H and W instead got \u001b[39m\u001b[39m{\u001b[39;00mimg\u001b[39m.\u001b[39mshape[\u001b[39m-\u001b[39m\u001b[39m2\u001b[39m:]\u001b[39m}\u001b[39;00m\u001b[39m\"\u001b[39m,\n\u001b[1;32m     80\u001b[0m     )\n\u001b[1;32m     81\u001b[0m     original_image_sizes\u001b[39m.\u001b[39mappend((val[\u001b[39m0\u001b[39m], val[\u001b[39m1\u001b[39m]))\n\u001b[0;32m---> 83\u001b[0m images, targets \u001b[39m=\u001b[39m \u001b[39mself\u001b[39;49m\u001b[39m.\u001b[39;49mtransform(images, targets)\n\u001b[1;32m     85\u001b[0m \u001b[39m# Check for degenerate boxes\u001b[39;00m\n\u001b[1;32m     86\u001b[0m \u001b[39m# TODO: Move this to a function\u001b[39;00m\n\u001b[1;32m     87\u001b[0m \u001b[39mif\u001b[39;00m targets \u001b[39mis\u001b[39;00m \u001b[39mnot\u001b[39;00m \u001b[39mNone\u001b[39;00m:\n",
                  "File \u001b[0;32m~/programming/machine_learning/Traffic_Object_Detection_Lab3/venv/lib/python3.10/site-packages/torch/nn/modules/module.py:1518\u001b[0m, in \u001b[0;36mModule._wrapped_call_impl\u001b[0;34m(self, *args, **kwargs)\u001b[0m\n\u001b[1;32m   1516\u001b[0m     \u001b[39mreturn\u001b[39;00m \u001b[39mself\u001b[39m\u001b[39m.\u001b[39m_compiled_call_impl(\u001b[39m*\u001b[39margs, \u001b[39m*\u001b[39m\u001b[39m*\u001b[39mkwargs)  \u001b[39m# type: ignore[misc]\u001b[39;00m\n\u001b[1;32m   1517\u001b[0m \u001b[39melse\u001b[39;00m:\n\u001b[0;32m-> 1518\u001b[0m     \u001b[39mreturn\u001b[39;00m \u001b[39mself\u001b[39;49m\u001b[39m.\u001b[39;49m_call_impl(\u001b[39m*\u001b[39;49margs, \u001b[39m*\u001b[39;49m\u001b[39m*\u001b[39;49mkwargs)\n",
                  "File \u001b[0;32m~/programming/machine_learning/Traffic_Object_Detection_Lab3/venv/lib/python3.10/site-packages/torch/nn/modules/module.py:1527\u001b[0m, in \u001b[0;36mModule._call_impl\u001b[0;34m(self, *args, **kwargs)\u001b[0m\n\u001b[1;32m   1522\u001b[0m \u001b[39m# If we don't have any hooks, we want to skip the rest of the logic in\u001b[39;00m\n\u001b[1;32m   1523\u001b[0m \u001b[39m# this function, and just call forward.\u001b[39;00m\n\u001b[1;32m   1524\u001b[0m \u001b[39mif\u001b[39;00m \u001b[39mnot\u001b[39;00m (\u001b[39mself\u001b[39m\u001b[39m.\u001b[39m_backward_hooks \u001b[39mor\u001b[39;00m \u001b[39mself\u001b[39m\u001b[39m.\u001b[39m_backward_pre_hooks \u001b[39mor\u001b[39;00m \u001b[39mself\u001b[39m\u001b[39m.\u001b[39m_forward_hooks \u001b[39mor\u001b[39;00m \u001b[39mself\u001b[39m\u001b[39m.\u001b[39m_forward_pre_hooks\n\u001b[1;32m   1525\u001b[0m         \u001b[39mor\u001b[39;00m _global_backward_pre_hooks \u001b[39mor\u001b[39;00m _global_backward_hooks\n\u001b[1;32m   1526\u001b[0m         \u001b[39mor\u001b[39;00m _global_forward_hooks \u001b[39mor\u001b[39;00m _global_forward_pre_hooks):\n\u001b[0;32m-> 1527\u001b[0m     \u001b[39mreturn\u001b[39;00m forward_call(\u001b[39m*\u001b[39;49margs, \u001b[39m*\u001b[39;49m\u001b[39m*\u001b[39;49mkwargs)\n\u001b[1;32m   1529\u001b[0m \u001b[39mtry\u001b[39;00m:\n\u001b[1;32m   1530\u001b[0m     result \u001b[39m=\u001b[39m \u001b[39mNone\u001b[39;00m\n",
                  "File \u001b[0;32m~/programming/machine_learning/Traffic_Object_Detection_Lab3/venv/lib/python3.10/site-packages/torchvision/models/detection/transform.py:139\u001b[0m, in \u001b[0;36mGeneralizedRCNNTransform.forward\u001b[0;34m(self, images, targets)\u001b[0m\n\u001b[1;32m    137\u001b[0m \u001b[39mif\u001b[39;00m image\u001b[39m.\u001b[39mdim() \u001b[39m!=\u001b[39m \u001b[39m3\u001b[39m:\n\u001b[1;32m    138\u001b[0m     \u001b[39mraise\u001b[39;00m \u001b[39mValueError\u001b[39;00m(\u001b[39mf\u001b[39m\u001b[39m\"\u001b[39m\u001b[39mimages is expected to be a list of 3d tensors of shape [C, H, W], got \u001b[39m\u001b[39m{\u001b[39;00mimage\u001b[39m.\u001b[39mshape\u001b[39m}\u001b[39;00m\u001b[39m\"\u001b[39m)\n\u001b[0;32m--> 139\u001b[0m image \u001b[39m=\u001b[39m \u001b[39mself\u001b[39;49m\u001b[39m.\u001b[39;49mnormalize(image)\n\u001b[1;32m    140\u001b[0m image, target_index \u001b[39m=\u001b[39m \u001b[39mself\u001b[39m\u001b[39m.\u001b[39mresize(image, target_index)\n\u001b[1;32m    141\u001b[0m images[i] \u001b[39m=\u001b[39m image\n",
                  "File \u001b[0;32m~/programming/machine_learning/Traffic_Object_Detection_Lab3/venv/lib/python3.10/site-packages/torchvision/models/detection/transform.py:160\u001b[0m, in \u001b[0;36mGeneralizedRCNNTransform.normalize\u001b[0;34m(self, image)\u001b[0m\n\u001b[1;32m    158\u001b[0m \u001b[39mdef\u001b[39;00m \u001b[39mnormalize\u001b[39m(\u001b[39mself\u001b[39m, image: Tensor) \u001b[39m-\u001b[39m\u001b[39m>\u001b[39m Tensor:\n\u001b[1;32m    159\u001b[0m     \u001b[39mif\u001b[39;00m \u001b[39mnot\u001b[39;00m image\u001b[39m.\u001b[39mis_floating_point():\n\u001b[0;32m--> 160\u001b[0m         \u001b[39mraise\u001b[39;00m \u001b[39mTypeError\u001b[39;00m(\n\u001b[1;32m    161\u001b[0m             \u001b[39mf\u001b[39m\u001b[39m\"\u001b[39m\u001b[39mExpected input images to be of floating type (in range [0, 1]), \u001b[39m\u001b[39m\"\u001b[39m\n\u001b[1;32m    162\u001b[0m             \u001b[39mf\u001b[39m\u001b[39m\"\u001b[39m\u001b[39mbut found type \u001b[39m\u001b[39m{\u001b[39;00mimage\u001b[39m.\u001b[39mdtype\u001b[39m}\u001b[39;00m\u001b[39m instead\u001b[39m\u001b[39m\"\u001b[39m\n\u001b[1;32m    163\u001b[0m         )\n\u001b[1;32m    164\u001b[0m     dtype, device \u001b[39m=\u001b[39m image\u001b[39m.\u001b[39mdtype, image\u001b[39m.\u001b[39mdevice\n\u001b[1;32m    165\u001b[0m     mean \u001b[39m=\u001b[39m torch\u001b[39m.\u001b[39mas_tensor(\u001b[39mself\u001b[39m\u001b[39m.\u001b[39mimage_mean, dtype\u001b[39m=\u001b[39mdtype, device\u001b[39m=\u001b[39mdevice)\n",
                  "\u001b[0;31mTypeError\u001b[0m: Expected input images to be of floating type (in range [0, 1]), but found type torch.uint8 instead"
               ]
            }
         ],
         "source": [
            "device = torch.device('cuda') if torch.cuda.is_available() else torch.device('cpu')\n",
            "autocast = torch.cuda.is_available()\n",
            "\n",
            "model = get_model(len(classes)).to(device)\n",
            "optimizer = torch.optim.Adam(model.parameters(), lr=0.01)\n",
            "lr_scheduler = torch.optim.lr_scheduler.StepLR(optimizer,step_size=5, gamma=0.1)\n",
            "num_epochs = 5\n",
            "\n",
            "trainer = Trainer(\n",
            "    model=model,\n",
            "    train_dataloader=train_dataloader,\n",
            "    test_dataloader=test_dataloader,\n",
            "    val_dataloader=val_dataloader,\n",
            "    optimizer=optimizer,\n",
            "    scheduler=lr_scheduler,\n",
            "    num_epochs=num_epochs,\n",
            "    device=device,\n",
            "    autocast=autocast\n",
            ")\n",
            "\n",
            "trainer.train()\n",
            "\n",
            "result = trainer.eval()\n",
            "prepare_result(result, 'result.csv', val_index_map)"
         ]
      },
      {
         "cell_type": "code",
         "execution_count": null,
         "metadata": {},
         "outputs": [],
         "source": []
      }
   ],
   "metadata": {
      "kernelspec": {
         "display_name": "venv",
         "language": "python",
         "name": "python3"
      },
      "language_info": {
         "codemirror_mode": {
            "name": "ipython",
            "version": 3
         },
         "file_extension": ".py",
         "mimetype": "text/x-python",
         "name": "python",
         "nbconvert_exporter": "python",
         "pygments_lexer": "ipython3",
         "version": "3.10.12"
      }
   },
   "nbformat": 4,
   "nbformat_minor": 2
}
